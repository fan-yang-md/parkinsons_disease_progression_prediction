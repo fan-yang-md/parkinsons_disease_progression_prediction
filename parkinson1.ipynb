{
 "cells": [
  {
   "cell_type": "code",
   "execution_count": null,
   "metadata": {},
   "outputs": [],
   "source": [
    "import pandas as pd\n",
    "import matplotlib.pyplot as plt\n",
    "import seaborn as sns\n",
    "import numpy as np\n",
    "import math\n",
    "from pathlib import Path"
   ]
  },
  {
   "cell_type": "code",
   "execution_count": null,
   "metadata": {},
   "outputs": [],
   "source": [
    "# Load the competition datasets into Pandas DataFrame\n",
    "path = Path(\"/Users/13392/Documents/amp-parkinsons-disease-progression-prediction\")\n",
    "train_proteins = pd.read_csv(path/\"train_proteins.csv\")\n",
    "train_peptides = pd.read_csv(path/\"train_peptides.csv\")\n",
    "train_clinical = pd.read_csv(path/\"train_clinical_data.csv\")\n",
    "supplemental_clinical = pd.read_csv(path/\"supplemental_clinical_data.csv\")"
   ]
  },
  {
   "cell_type": "code",
   "execution_count": null,
   "metadata": {},
   "outputs": [],
   "source": [
    "print(train_clinical.shape)\n",
    "print(train_peptides.shape)\n",
    "print(train_proteins.shape)\n",
    "print(supplemental_clinical.shape)"
   ]
  },
  {
   "cell_type": "code",
   "execution_count": null,
   "metadata": {},
   "outputs": [],
   "source": [
    "train_clinical.head(10)"
   ]
  },
  {
   "cell_type": "code",
   "execution_count": null,
   "metadata": {},
   "outputs": [],
   "source": [
    "train_peptides.head(20)"
   ]
  },
  {
   "cell_type": "code",
   "execution_count": null,
   "metadata": {},
   "outputs": [],
   "source": [
    "train_proteins.head(10)"
   ]
  },
  {
   "cell_type": "code",
   "execution_count": null,
   "metadata": {},
   "outputs": [],
   "source": [
    "supplemental_clinical.head(10)"
   ]
  },
  {
   "cell_type": "markdown",
   "metadata": {},
   "source": [
    "Observations: \n",
    "1) visit_id = patient_id + visit_month\n",
    "2) NaN values will need to be dealt with. \n",
    "3) Visits seem to be made and recorded every 3 or 6 months for \"clinical data\", while in \"supplemental data\" a visit is recorded only every 36 months. \n"
   ]
  },
  {
   "cell_type": "code",
   "execution_count": null,
   "metadata": {},
   "outputs": [],
   "source": [
    "# Determining the number of unique patients in the datasets.\n",
    "\n",
    "clinical_patient_count = train_clinical['patient_id'].nunique()\n",
    "print(f'There are {clinical_patient_count} number of unique patients in \"train_clinical_data.csv\"')\n",
    "\n",
    "patient_count1 = train_peptides['patient_id'].nunique()\n",
    "print(f'There are {patient_count1} number of unique patients in \"train_peptides.csv\"')\n",
    "\n",
    "patient_count2 = train_proteins['patient_id'].nunique()\n",
    "print(f'There are {patient_count2} number of unique patients in \"train_proteins.csv\"')\n",
    "      \n",
    "supplemental_patient_count = supplemental_clinical['patient_id'].nunique()\n",
    "print(f'There are {supplemental_patient_count} number of unique patients in \"supplemental_clinical_data.csv\"')"
   ]
  },
  {
   "cell_type": "markdown",
   "metadata": {},
   "source": [
    "As we can see, all 248 clinical patients have their peptide and protein data recorded. "
   ]
  },
  {
   "cell_type": "code",
   "execution_count": null,
   "metadata": {},
   "outputs": [],
   "source": [
    "# list all the unique patient_id\n",
    "train_clinical['patient_id'].unique()"
   ]
  },
  {
   "cell_type": "code",
   "execution_count": null,
   "metadata": {},
   "outputs": [],
   "source": [
    "# Look at all the available clincal data for one patient: patient_id = 55\n",
    "train_clinical[train_clinical['patient_id']==55]"
   ]
  },
  {
   "cell_type": "code",
   "execution_count": null,
   "metadata": {},
   "outputs": [],
   "source": [
    "# Look at all the available clincal data for another patient: patient_id = 942\n",
    "train_clinical[train_clinical['patient_id']==942]"
   ]
  },
  {
   "cell_type": "code",
   "execution_count": null,
   "metadata": {},
   "outputs": [],
   "source": [
    "# Look at all the avaiable clincal data for another patient: patient_id = 1517\n",
    "train_clinical[train_clinical['patient_id']==1517]"
   ]
  },
  {
   "cell_type": "markdown",
   "metadata": {},
   "source": [
    "I notice a lot of NaN values in the previous patient data, especially in 'clinical_state_on_medication' column, so let's count all the NaN values in each column."
   ]
  },
  {
   "cell_type": "code",
   "execution_count": null,
   "metadata": {},
   "outputs": [],
   "source": [
    "train_clinical.isna().sum()"
   ]
  },
  {
   "cell_type": "markdown",
   "metadata": {},
   "source": [
    "Out of 2615 entries for each column, \"upd23b_clinical_state_on_medication\" has over 50% of of the values as NaN. Since it's indication whether a patient is either \"on\" or \"off\" medication, there is no straight forward way to interpolate the missing values. I'm going to drop the column entirely, especially considering that the testing data will not have any medication data. "
   ]
  },
  {
   "cell_type": "code",
   "execution_count": null,
   "metadata": {},
   "outputs": [],
   "source": [
    "# counting the number of unique scores in 'updrs_4' and their occurances.\n",
    "train_clinical['updrs_4'].value_counts()"
   ]
  },
  {
   "cell_type": "code",
   "execution_count": null,
   "metadata": {},
   "outputs": [],
   "source": [
    "# counting the number of unique scores for 'clinical state on medication' and their occurances.\n",
    "\n",
    "train_clinical['upd23b_clinical_state_on_medication'].value_counts()"
   ]
  },
  {
   "cell_type": "code",
   "execution_count": null,
   "metadata": {},
   "outputs": [],
   "source": [
    "# drop the \"medication status\" column (due to over 50% NaN values), keep a copy of the original\n",
    "# for later access. \n",
    "train_clinical_copy = train_clinical.copy()\n",
    "\n",
    "train_clinical.drop('upd23b_clinical_state_on_medication', axis=1, inplace=True)\n"
   ]
  },
  {
   "cell_type": "code",
   "execution_count": null,
   "metadata": {},
   "outputs": [],
   "source": [
    "train_clinical"
   ]
  },
  {
   "cell_type": "code",
   "execution_count": null,
   "metadata": {},
   "outputs": [],
   "source": [
    "# and use interpolate() on the rest of the dataset.\n",
    "\n",
    "train_clinical['updrs_1'].interpolate(method='linear', limit_direction='both', inplace=True)\n",
    "train_clinical['updrs_2'].interpolate(method='linear', limit_direction='both', inplace=True)\n",
    "train_clinical['updrs_3'].interpolate(method='linear', limit_direction='both', inplace=True)\n",
    "train_clinical['updrs_4'].interpolate(method='linear', limit_direction='both', inplace=True)"
   ]
  },
  {
   "cell_type": "code",
   "execution_count": null,
   "metadata": {},
   "outputs": [],
   "source": [
    "# no more NaN values remaining. \n",
    "\n",
    "train_clinical.isna().sum()"
   ]
  },
  {
   "cell_type": "code",
   "execution_count": null,
   "metadata": {},
   "outputs": [],
   "source": [
    "# let's look at the other datasets. \n",
    "\n",
    "train_peptides.isna().sum()"
   ]
  },
  {
   "cell_type": "code",
   "execution_count": null,
   "metadata": {},
   "outputs": [],
   "source": [
    "train_proteins.isna().sum()"
   ]
  },
  {
   "cell_type": "code",
   "execution_count": null,
   "metadata": {},
   "outputs": [],
   "source": [
    "supplemental_clinical.isna().sum()"
   ]
  },
  {
   "cell_type": "code",
   "execution_count": null,
   "metadata": {},
   "outputs": [],
   "source": [
    "# we'll also drop the 'medication' column and interpolate the rest using the same method.\n",
    "\n",
    "supplemental_clinical.drop('upd23b_clinical_state_on_medication', axis=1, inplace=True)\n"
   ]
  },
  {
   "cell_type": "code",
   "execution_count": null,
   "metadata": {},
   "outputs": [],
   "source": [
    "supplemental_clinical['updrs_1'].interpolate(method='linear', limit_direction='both', inplace=True)\n",
    "supplemental_clinical['updrs_2'].interpolate(method='linear', limit_direction='both', inplace=True)\n",
    "supplemental_clinical['updrs_3'].interpolate(method='linear', limit_direction='both', inplace=True)\n",
    "supplemental_clinical['updrs_4'].interpolate(method='linear', limit_direction='both', inplace=True)"
   ]
  },
  {
   "cell_type": "code",
   "execution_count": null,
   "metadata": {},
   "outputs": [],
   "source": [
    "supplemental_clinical.isnull().sum()"
   ]
  },
  {
   "cell_type": "code",
   "execution_count": null,
   "metadata": {},
   "outputs": [],
   "source": [
    "cols = ['visit_month','updrs_1', 'updrs_2', 'updrs_3', 'updrs_4']\n",
    "train_clinical[cols].describe().T"
   ]
  },
  {
   "cell_type": "code",
   "execution_count": null,
   "metadata": {},
   "outputs": [],
   "source": [
    "supplemental_clinical[cols].describe().T"
   ]
  },
  {
   "cell_type": "markdown",
   "metadata": {},
   "source": [
    "Max follow-up for patients in \"clinical Data\" is 108 months, and max follow-up for patients in \"supplemental data\" is 36 months.\n",
    "\n",
    "Let's see how many of the 'clinical' patients are followed up for 56 months (mean + 1 std) or more, and how many of the 'supplemental' patients are followed up for 36 months (max)."
   ]
  },
  {
   "cell_type": "code",
   "execution_count": null,
   "metadata": {},
   "outputs": [],
   "source": [
    "months_followed = 56\n",
    "unique_pt_count = train_clinical[train_clinical['visit_month']>=months_followed]['patient_id'].nunique()"
   ]
  },
  {
   "cell_type": "code",
   "execution_count": null,
   "metadata": {},
   "outputs": [],
   "source": [
    "unique_pt_count_suppl = supplemental_clinical[supplemental_clinical['visit_month']>=36]['patient_id'].nunique()"
   ]
  },
  {
   "cell_type": "code",
   "execution_count": null,
   "metadata": {},
   "outputs": [],
   "source": [
    "print(f'{unique_pt_count/clinical_patient_count*100:.2f}% in the clinical data are follwed up for 56 months or more.')\n",
    "print(f'{unique_pt_count_suppl/supplemental_patient_count*100:.2f}% in the supplemental data are follwed up for 36 months.')"
   ]
  },
  {
   "cell_type": "code",
   "execution_count": null,
   "metadata": {},
   "outputs": [],
   "source": [
    "# label the source of data before combining them.\n",
    "train_clinical['source'] = 'Clinical Data'\n",
    "supplemental_clinical['source'] = 'Supplemental Data'\n",
    "\n",
    "combined_data = pd.concat([train_clinical, supplemental_clinical],ignore_index=True)"
   ]
  },
  {
   "cell_type": "code",
   "execution_count": null,
   "metadata": {},
   "outputs": [],
   "source": [
    "combined_data"
   ]
  },
  {
   "cell_type": "code",
   "execution_count": null,
   "metadata": {},
   "outputs": [],
   "source": [
    "# check the total number of patients in the combined data. \n",
    "combined_data['patient_id'].nunique()"
   ]
  },
  {
   "cell_type": "code",
   "execution_count": null,
   "metadata": {},
   "outputs": [],
   "source": [
    "fig, ax = plt.subplots(nrows=1, ncols=1, figsize=(15,5))\n",
    "sns.set_style('dark')\n",
    "sns.histplot(data=combined_data, x='visit_month', hue='source', kde=True, ax=ax, element='step')\n",
    "ax.set_title('Recorded Visiting Months')\n",
    "ax.set_ylabel('Count')\n",
    "ax.set_xlabel('Visiting Month');"
   ]
  },
  {
   "cell_type": "code",
   "execution_count": null,
   "metadata": {},
   "outputs": [],
   "source": [
    "cols = ['updrs_1', 'updrs_2', 'updrs_3', 'updrs_4']\n",
    "fig, axs = plt.subplots(nrows=4, ncols=1, figsize=(15,20))\n",
    "sns.set_style('dark')\n",
    "\n",
    "for x, col in enumerate(cols):\n",
    "    ax = axs[x]\n",
    "    sns.histplot(data=combined_data, x=col, hue='source', kde=True, ax=ax, element='step')\n",
    "    ax.set_title(f'{col} Score')\n",
    "    ax.set_ylabel('Count')\n",
    "    ax.set_xlabel(f'{col} Score')"
   ]
  },
  {
   "cell_type": "markdown",
   "metadata": {},
   "source": [
    "UPDRS_1 and UPDRS_4 are similarly distributed across clincal data and supplemental data, while UPDRS_2 and UPDRS_3 scores are not. UPDRS_2 and UPDRS_3 scores have a much higher percentage of '0'. Since the two datasets are so different (in both score distribution, duration followed, and frequency of follow-up visits), should we be combining them and training a model on the combined data? My intution tells me that a model should only be trained on the \"clinical\" dataset."
   ]
  },
  {
   "cell_type": "code",
   "execution_count": null,
   "metadata": {},
   "outputs": [],
   "source": [
    "# taking a quick look at the protein data\n",
    "train_proteins.describe().T"
   ]
  },
  {
   "cell_type": "code",
   "execution_count": null,
   "metadata": {},
   "outputs": [],
   "source": [
    "data = train_proteins['NPX']\n",
    "fig, ax = plt.subplots(ncols=1,nrows=1, figsize=(15,5))\n",
    "sns.histplot(data, ax=ax, log_scale=True, color='g')\n",
    "ax.set_title('Logarithmic Distribution of Normalized Protein Expression');"
   ]
  },
  {
   "cell_type": "code",
   "execution_count": null,
   "metadata": {},
   "outputs": [],
   "source": [
    "# peptide data\n",
    "train_peptides.describe().T"
   ]
  },
  {
   "cell_type": "code",
   "execution_count": null,
   "metadata": {},
   "outputs": [],
   "source": [
    "data = train_peptides['PeptideAbundance']\n",
    "fig, ax = plt.subplots(ncols=1,nrows=1, figsize=(15,5))\n",
    "sns.histplot(data, ax=ax, log_scale=True, color='g')\n",
    "ax.set_title('Logarithmic Distribution of Peptide Abundance');"
   ]
  },
  {
   "cell_type": "code",
   "execution_count": null,
   "metadata": {},
   "outputs": [],
   "source": [
    "fig, axs = plt.subplots(nrows=4, ncols=1, figsize=(15,25))\n",
    "cols = ['updrs_1', 'updrs_2', 'updrs_3', 'updrs_4']\n",
    "#axs = axs.flatten()\n",
    "\n",
    "for i, col in enumerate(cols):\n",
    "    ax=axs[i]\n",
    "    sns.stripplot(data=train_clinical, x='visit_month', y=col, ax=ax)\n",
    "    sns.pointplot(data=train_clinical_copy, x='visit_month', y=col, color='r', ax=ax, linestyles=':')\n"
   ]
  },
  {
   "cell_type": "markdown",
   "metadata": {},
   "source": [
    "The data trend is not overly encouraging, as it shows relatively little disease progression trend, as one would expect with Parkinson's, i.e. worsening symptoms over time showing increasing UPDRS scores. There is only a slight upward trend in UPDRS_1, _2, and _3. \n",
    "\n",
    "What if we combine all four UPDRS scores?"
   ]
  },
  {
   "cell_type": "code",
   "execution_count": null,
   "metadata": {},
   "outputs": [],
   "source": [
    "train_clinical['updrs_total'] = train_clinical['updrs_1']+train_clinical['updrs_2']+train_clinical['updrs_3']+train_clinical['updrs_4']"
   ]
  },
  {
   "cell_type": "code",
   "execution_count": null,
   "metadata": {},
   "outputs": [],
   "source": [
    "train_clinical.head()"
   ]
  },
  {
   "cell_type": "code",
   "execution_count": null,
   "metadata": {},
   "outputs": [],
   "source": [
    "fig, ax = plt.subplots(nrows=1, ncols=1, figsize=(15,5))\n",
    "sns.boxplot(data=train_clinical, x='visit_month', y='updrs_total', ax=ax)"
   ]
  },
  {
   "cell_type": "markdown",
   "metadata": {},
   "source": [
    "Again, there is only a very slight upward trend of the total UPDRS score over 108 months of follow-up.\n",
    "\n",
    "Let's now look at the Protein Data. We'll convert NPX to natural log since the dataset range is too wide otherwise."
   ]
  },
  {
   "cell_type": "code",
   "execution_count": null,
   "metadata": {},
   "outputs": [],
   "source": [
    "train_proteins['log(NPX)'] = np.log(train_proteins['NPX'])\n",
    "fig, ax = plt.subplots(nrows=1, ncols=1, figsize=(15,5))\n",
    "\n",
    "sns.boxplot(data=train_proteins, x='visit_month', y='log(NPX)', ax=ax)"
   ]
  },
  {
   "cell_type": "markdown",
   "metadata": {},
   "source": [
    "This likely indicates that the total protein expressed (NPX) shows very little correlation with disease progression, but maybe certain types of peptides and their amounts can be telling?"
   ]
  },
  {
   "cell_type": "code",
   "execution_count": null,
   "metadata": {},
   "outputs": [],
   "source": []
  }
 ],
 "metadata": {
  "kernelspec": {
   "display_name": "cn_ml_course",
   "language": "python",
   "name": "python3"
  },
  "language_info": {
   "codemirror_mode": {
    "name": "ipython",
    "version": 3
   },
   "file_extension": ".py",
   "mimetype": "text/x-python",
   "name": "python",
   "nbconvert_exporter": "python",
   "pygments_lexer": "ipython3",
   "version": "3.11.3"
  },
  "orig_nbformat": 4
 },
 "nbformat": 4,
 "nbformat_minor": 2
}
